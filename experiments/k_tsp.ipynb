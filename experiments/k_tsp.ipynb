{
  "cells": [
    {
      "cell_type": "code",
      "execution_count": null,
      "metadata": {
        "colab": {
          "base_uri": "https://localhost:8080/"
        },
        "id": "G4HddDl5qOo2",
        "outputId": "b7297c61-4665-4695-f197-7ff48749bb3b"
      },
      "outputs": [
        {
          "name": "stdout",
          "output_type": "stream",
          "text": [
            "Looking in indexes: https://pypi.org/simple, https://us-python.pkg.dev/colab-wheels/public/simple/\n",
            "Collecting tsplib95\n",
            "  Downloading tsplib95-0.7.1-py2.py3-none-any.whl (25 kB)\n",
            "Requirement already satisfied: Click>=6.0 in /usr/local/lib/python3.10/dist-packages (from tsplib95) (8.1.3)\n",
            "Collecting Deprecated~=1.2.9 (from tsplib95)\n",
            "  Downloading Deprecated-1.2.14-py2.py3-none-any.whl (9.6 kB)\n",
            "Collecting networkx~=2.1 (from tsplib95)\n",
            "  Downloading networkx-2.8.8-py3-none-any.whl (2.0 MB)\n",
            "\u001b[2K     \u001b[90m━━━━━━━━━━━━━━━━━━━━━━━━━━━━━━━━━━━━━━━━\u001b[0m \u001b[32m2.0/2.0 MB\u001b[0m \u001b[31m52.8 MB/s\u001b[0m eta \u001b[36m0:00:00\u001b[0m\n",
            "\u001b[?25hRequirement already satisfied: tabulate~=0.8.7 in /usr/local/lib/python3.10/dist-packages (from tsplib95) (0.8.10)\n",
            "Requirement already satisfied: wrapt<2,>=1.10 in /usr/local/lib/python3.10/dist-packages (from Deprecated~=1.2.9->tsplib95) (1.14.1)\n",
            "Installing collected packages: networkx, Deprecated, tsplib95\n",
            "  Attempting uninstall: networkx\n",
            "    Found existing installation: networkx 3.1\n",
            "    Uninstalling networkx-3.1:\n",
            "      Successfully uninstalled networkx-3.1\n",
            "Successfully installed Deprecated-1.2.14 networkx-2.8.8 tsplib95-0.7.1\n",
            "Looking in indexes: https://pypi.org/simple, https://us-python.pkg.dev/colab-wheels/public/simple/\n",
            "Requirement already satisfied: pandas in /usr/local/lib/python3.10/dist-packages (1.5.3)\n",
            "Collecting pandas\n",
            "  Downloading pandas-2.0.2-cp310-cp310-manylinux_2_17_x86_64.manylinux2014_x86_64.whl (12.3 MB)\n",
            "\u001b[2K     \u001b[90m━━━━━━━━━━━━━━━━━━━━━━━━━━━━━━━━━━━━━━━━\u001b[0m \u001b[32m12.3/12.3 MB\u001b[0m \u001b[31m45.1 MB/s\u001b[0m eta \u001b[36m0:00:00\u001b[0m\n",
            "\u001b[?25hRequirement already satisfied: python-dateutil>=2.8.2 in /usr/local/lib/python3.10/dist-packages (from pandas) (2.8.2)\n",
            "Requirement already satisfied: pytz>=2020.1 in /usr/local/lib/python3.10/dist-packages (from pandas) (2022.7.1)\n",
            "Collecting tzdata>=2022.1 (from pandas)\n",
            "  Downloading tzdata-2023.3-py2.py3-none-any.whl (341 kB)\n",
            "\u001b[2K     \u001b[90m━━━━━━━━━━━━━━━━━━━━━━━━━━━━━━━━━━━━━━\u001b[0m \u001b[32m341.8/341.8 kB\u001b[0m \u001b[31m19.0 MB/s\u001b[0m eta \u001b[36m0:00:00\u001b[0m\n",
            "\u001b[?25hRequirement already satisfied: numpy>=1.21.0 in /usr/local/lib/python3.10/dist-packages (from pandas) (1.22.4)\n",
            "Requirement already satisfied: six>=1.5 in /usr/local/lib/python3.10/dist-packages (from python-dateutil>=2.8.2->pandas) (1.16.0)\n",
            "Installing collected packages: tzdata, pandas\n",
            "  Attempting uninstall: pandas\n",
            "    Found existing installation: pandas 1.5.3\n",
            "    Uninstalling pandas-1.5.3:\n",
            "      Successfully uninstalled pandas-1.5.3\n",
            "\u001b[31mERROR: pip's dependency resolver does not currently take into account all the packages that are installed. This behaviour is the source of the following dependency conflicts.\n",
            "google-colab 1.0.0 requires pandas==1.5.3, but you have pandas 2.0.2 which is incompatible.\u001b[0m\u001b[31m\n",
            "\u001b[0mSuccessfully installed pandas-2.0.2 tzdata-2023.3\n"
          ]
        }
      ],
      "source": [
        "!pip install tsplib95\n",
        "!pip install --upgrade pandas"
      ]
    },
    {
      "cell_type": "code",
      "execution_count": 1,
      "metadata": {
        "id": "gOqkSrTknBM5"
      },
      "outputs": [],
      "source": [
        "import pandas as pd\n",
        "import numpy as np\n",
        "import networkx as nx\n",
        "import zipfile\n",
        "import tsplib95\n",
        "from tqdm import tqdm"
      ]
    },
    {
      "cell_type": "code",
      "execution_count": null,
      "metadata": {
        "id": "xsDHOCSDwoOK"
      },
      "outputs": [],
      "source": [
        "file_path = 'tsp.zip'\n",
        "folder_path = ''"
      ]
    },
    {
      "cell_type": "code",
      "execution_count": null,
      "metadata": {
        "id": "L_TtyDRPnPe4"
      },
      "outputs": [],
      "source": [
        "with zipfile.ZipFile(file_path, 'r') as zip_ref:\n",
        "  zip_ref.extractall(folder_path)\n",
        "  instances = zip_ref.namelist()"
      ]
    },
    {
      "cell_type": "code",
      "execution_count": null,
      "metadata": {
        "id": "th7ILXmWUjjk"
      },
      "outputs": [],
      "source": [
        "k_factor_1 = 1/4\n",
        "k_factor_2 = 1/2\n",
        "k_factor_3 = 3/4"
      ]
    },
    {
      "cell_type": "code",
      "execution_count": null,
      "metadata": {
        "id": "eYBhmQV9pnRz"
      },
      "outputs": [],
      "source": [
        "# instances\n",
        "instances = [\n",
        "  'tsp/a280.tsp', 'tsp/bayg29.tsp', 'tsp/bays29.tsp', 'tsp/berlin52.tsp', 'tsp/bier127.tsp',\n",
        "  'tsp/burma14.tsp', 'tsp/ch130.tsp', 'tsp/ch150.tsp', 'tsp/d198.tsp', 'tsp/dantzig42.tsp',\n",
        "  'tsp/eil101.tsp', 'tsp/eil51.tsp', 'tsp/eil76.tsp', 'tsp/fri26.tsp', 'tsp/gil262.tsp',\n",
        "  'tsp/gr137.tsp', 'tsp/gr17.tsp', 'tsp/gr21.tsp', 'tsp/gr24.tsp', 'tsp/gr48.tsp',\n",
        "  'tsp/gr96.tsp', 'tsp/gr202.tsp', 'tsp/gr229.tsp', 'tsp/hk48.tsp', 'tsp/kroA100.tsp',\n",
        "  'tsp/kroA150.tsp', 'tsp/kroA200.tsp', 'tsp/kroB100.tsp', 'tsp/kroB150.tsp',\n",
        "  'tsp/kroB200.tsp', 'tsp/kroC100.tsp', 'tsp/kroD100.tsp', 'tsp/kroE100.tsp',\n",
        "  'tsp/lin105.tsp', 'tsp/lin318.tsp', 'tsp/pr107.tsp', 'tsp/pr124.tsp', 'tsp/pr136.tsp',\n",
        "  'tsp/pr144.tsp', 'tsp/pr152.tsp', 'tsp/pr76.tsp', 'tsp/pr226.tsp', 'tsp/rat195.tsp',\n",
        "  'tsp/rat99.tsp', 'tsp/rd100.tsp', 'tsp/st70.tsp', 'tsp/swiss42.tsp', 'tsp/u159.tsp',\n",
        "  'tsp/ulysses16.tsp', 'tsp/ulysses22.tsp'\n",
        "]\n",
        "\n",
        "selected_instances = ['tsp/burma14.tsp', 'tsp/ulysses16.tsp', 'tsp/gr24.tsp', 'tsp/dantzig42.tsp', 'tsp/eil76.tsp', 'tsp/lin318.tsp']"
      ]
    },
    {
      "cell_type": "code",
      "execution_count": 2,
      "metadata": {},
      "outputs": [],
      "source": [
        "instance = \"../data/dsj1000.tsp\""
      ]
    },
    {
      "cell_type": "code",
      "execution_count": 12,
      "metadata": {},
      "outputs": [],
      "source": [
        "df = get_instance(instance)\n",
        "population = generate_initial_population(df, 100, 1/3)"
      ]
    },
    {
      "cell_type": "code",
      "execution_count": 6,
      "metadata": {
        "id": "R_7A6UVZk5LX"
      },
      "outputs": [],
      "source": [
        "def get_instance(instance_name):\n",
        "  problem = tsplib95.load(instance_name)\n",
        "  problem_name = problem.name\n",
        "  problem_dimension = problem.dimension\n",
        "  undireted_graph = nx.Graph(problem.get_graph())\n",
        "  undireted_df = nx.to_pandas_edgelist(undireted_graph)\n",
        "  undireted_df_inverted = undireted_df.copy()\n",
        "  column_names = undireted_df_inverted.columns.tolist()\n",
        "  column_names[0], column_names[1] = column_names[1], column_names[0]\n",
        "  undireted_df_inverted.columns = column_names\n",
        "  undireted_df_inverted = undireted_df_inverted[column_names]\n",
        "  concated_df = pd.concat([undireted_df, undireted_df_inverted]).drop_duplicates()\n",
        "  filtered_df = concated_df[concated_df['source'] != concated_df['target']]\n",
        "\n",
        "  return filtered_df"
      ]
    },
    {
      "cell_type": "code",
      "execution_count": 7,
      "metadata": {
        "id": "4LpLRY4PQFUt"
      },
      "outputs": [],
      "source": [
        "def get_solution_size(cities_number: int, k_factor: float) -> int:\n",
        "  return int(np.floor(k_factor * cities_number))\n",
        "\n",
        "def get_first_city_of_solution(df: pd.DataFrame, index: int) -> int:\n",
        "  sorted_df = df.sort_values('weight')\n",
        "  first_city = sorted_df.iloc[index]['source']\n",
        "\n",
        "  return first_city\n",
        "\n",
        "def get_neighbors(df: pd.DataFrame, city: str, not_available_cities: set) -> pd.DataFrame:\n",
        "  filtered_df = df[(df['source'] == city) & (df['target'] != city)]\n",
        "  neighbors = filtered_df[~filtered_df['target'].isin(not_available_cities)]\n",
        "\n",
        "  return neighbors\n",
        "\n",
        "def get_nearest_city(neighbors: np.array) -> int:\n",
        "  if neighbors.size == 0:\n",
        "    return None\n",
        "\n",
        "  nearest_index = neighbors['weight'].idxmin()\n",
        "  nearest_city = neighbors.loc[nearest_index, 'target']\n",
        "\n",
        "  return nearest_city\n",
        "\n",
        "def generate_solution(df: pd.DataFrame, cities: np.array, solution_size: int, index: int) -> np.array:\n",
        "  solution = np.zeros(solution_size, dtype=int)\n",
        "  not_available_cities = set()\n",
        "\n",
        "  if index >= solution_size:\n",
        "    index = int(np.ceil(index / 2))\n",
        "\n",
        "  first_city = get_first_city_of_solution(df, index)\n",
        "  solution[0] = first_city\n",
        "  not_available_cities.add(first_city)\n",
        "\n",
        "  for i in range(1, solution_size):\n",
        "    city = solution[i - 1]\n",
        "    neighbors = get_neighbors(df, city, not_available_cities)\n",
        "    nearest_city = get_nearest_city(neighbors)\n",
        "\n",
        "    if nearest_city is None:\n",
        "      break\n",
        "\n",
        "    solution[i] = nearest_city\n",
        "    not_available_cities.add(nearest_city)\n",
        "\n",
        "  return solution\n",
        "\n",
        "def check_if_solution_is_feasible(df: pd.DataFrame, solution: np.array, solution_size: int) -> bool:\n",
        "  if solution.size != solution_size:\n",
        "    return False\n",
        "\n",
        "  edges = df.merge(\n",
        "    pd.DataFrame({'source': solution[:-1], 'target': solution[1:]}),\n",
        "    on=['source', 'target'],\n",
        "    how='inner'\n",
        "  )\n",
        "\n",
        "  trips_number = len(edges)\n",
        "\n",
        "  if trips_number != solution_size - 1:\n",
        "    return False\n",
        "\n",
        "  visited_cities = set(np.concatenate((solution[:-1], solution[1:])))\n",
        "\n",
        "  return len(visited_cities) == solution.size\n",
        "\n",
        "def generate_initial_population(df: pd.DataFrame, population_size: int, k_factor: float) -> np.array:\n",
        "  cities = df['source'].unique()\n",
        "  cities_number = cities.size\n",
        "  solution_size = get_solution_size(cities_number, k_factor)\n",
        "  population = np.zeros((population_size, solution_size), dtype=int)\n",
        "  solution_index = 0\n",
        "\n",
        "  for population_index in range(population_size):\n",
        "    is_solution_feasible = False\n",
        "\n",
        "    while not is_solution_feasible:\n",
        "      solution = generate_solution(df, cities, solution_size, solution_index)\n",
        "      is_solution_feasible = check_if_solution_is_feasible(df, solution, solution_size)\n",
        "\n",
        "      if is_solution_feasible:\n",
        "        population[population_index] = solution\n",
        "\n",
        "      solution_index += 1\n",
        "\n",
        "  return population\n",
        "\n",
        "def generate_random_initial_population(df, population_size, k_factor):\n",
        "  population = []\n",
        "  cities = list(df['source'].unique())\n",
        "  num_cities = k_factor(len(cities))\n",
        "\n",
        "  for cromossome in range(population_size):\n",
        "    is_solution_feasible = False\n",
        "    while not is_solution_feasible:\n",
        "      solution = np.random.choice(np.arange(1, len(cities) + 1), size=num_cities, replace=False).tolist()\n",
        "      is_solution_feasible = check_if_solution_is_feasible(df, solution, k_factor)\n",
        "      if is_solution_feasible:\n",
        "        population.append(solution)\n",
        "\n",
        "  return population"
      ]
    },
    {
      "cell_type": "code",
      "execution_count": null,
      "metadata": {
        "id": "CyHgKGt_Rs0K"
      },
      "outputs": [],
      "source": [
        "def calculate_path_length(df: pd.DataFrame, solution: np.array) -> int:\n",
        "  path_length = 0\n",
        "  for i in range(len(solution) - 1):\n",
        "    source = solution[i]\n",
        "    target = solution[i + 1]\n",
        "    edge = df[(df['source'] == source) & (df['target'] == target)]\n",
        "    path_length += edge['weight'].values[0]\n",
        "\n",
        "  return path_length\n",
        "\n",
        "def calculate_fitness(df: pd.DataFrame, population: np.array) -> np.array:\n",
        "  fitness_values = np.zeros(population.shape[0], dtype=int)\n",
        "\n",
        "  for i, solution in enumerate(population):\n",
        "    fitness_values[i] = calculate_path_length(df, solution)\n",
        "\n",
        "  return fitness_values"
      ]
    },
    {
      "cell_type": "code",
      "execution_count": null,
      "metadata": {
        "id": "G5HmlLT4SXr7"
      },
      "outputs": [],
      "source": [
        "def roulette_selection(population: np.array, fitness_values: np.array, num_select: int) -> np.array:\n",
        "  selected_indices = np.zeros(num_select, dtype=int)\n",
        "  fitness_sum = np.sum(fitness_values)\n",
        "  probabilities = (fitness_sum - fitness_values) / fitness_sum\n",
        "  probabilities /= np.sum(probabilities)\n",
        "  electist_selection_index = np.argmin(fitness_values)\n",
        "  selected_indices[0] = electist_selection_index\n",
        "  selected_indices[1:] = np.random.choice(len(population), size=num_select - 1, p=probabilities, replace=False)\n",
        "  selected = population[selected_indices]\n",
        "  selected_fitness_values = fitness_values[selected_indices]\n",
        "  sorted_indices = np.argsort(selected_fitness_values)\n",
        "  sorted_population = selected[sorted_indices]\n",
        "\n",
        "  return sorted_population"
      ]
    },
    {
      "cell_type": "code",
      "execution_count": null,
      "metadata": {
        "id": "c8vgkx9sVr01"
      },
      "outputs": [],
      "source": [
        "def swap_mutation(solution: np.array, mutation_rate: float) -> np.array:\n",
        "  mutated_solution = solution.copy()\n",
        "  for i in range(len(mutated_solution)):\n",
        "    if np.random.random() < mutation_rate:\n",
        "      j = np.random.randint(0, len(mutated_solution) - 1)\n",
        "      mutated_solution[i], mutated_solution[j] = mutated_solution[j], mutated_solution[i]\n",
        "\n",
        "  return mutated_solution\n",
        "\n",
        "def reverse_swap_mutation(solution: np.array, mutation_rate: float) -> np.array:\n",
        "  mutated_solution = solution.copy()\n",
        "  for i in range(len(mutated_solution)):\n",
        "    if np.random.random() < mutation_rate:\n",
        "      j = np.random.randint(0, len(mutated_solution) - 1)\n",
        "      start = min(i, j)\n",
        "      end = max(i, j)\n",
        "      mutated_solution[start:end+1] = np.flip(mutated_solution[start:end+1])\n",
        "\n",
        "  return mutated_solution\n",
        "\n",
        "def slide_mutation(solution: np.array, mutation_rate: float) -> np.array:\n",
        "  mutated_solution = solution.copy()\n",
        "  for i in range(len(mutated_solution)):\n",
        "    if np.random.random() < mutation_rate:\n",
        "      slide_index = np.random.randint(0, len(mutated_solution) - 1)\n",
        "      slide_value = mutated_solution[i]\n",
        "      mutated_solution = np.delete(mutated_solution, i)\n",
        "      mutated_solution = np.insert(mutated_solution, slide_index, slide_value)\n",
        "\n",
        "  return mutated_solution\n",
        "\n",
        "def add_new_city_mutation(solution: np.array, mutation_rate: float) -> np.array:\n",
        "  for i in range(len(solution)):\n",
        "    if np.random.random() < mutation_rate:\n",
        "      if i == 0:\n",
        "        next_city = solution[i+1]\n",
        "        closest_intermediate_city = df.query('target == @next_city and source not in @solution').sort_values('weight')\n",
        "      if i == (len(solution) - 1):\n",
        "        before_city = solution[i-1]\n",
        "        closest_intermediate_city = df.query('source == @before_city and target not in @solution').sort_values('weight')\n",
        "      else:\n",
        "        before_city = solution[i-1]\n",
        "        next_city = solution[i+1]\n",
        "        closest_intermediate_city = df.query('(target == @before_city and source not in @solution) or (target == @next_city and source not in @solution)').groupby(['source']).sum().sort_values('weight')\n",
        "\n",
        "      if closest_intermediate_city.shape[0] != 0:\n",
        "        solution[i] = closest_intermediate_city.iloc[0].name\n",
        "\n",
        "  return solution\n",
        "\n",
        "def mutate(solution: np.array, mutation_rate: float) -> np.array:\n",
        "  mutate_functions = [swap_mutation, reverse_swap_mutation, slide_mutation, add_new_city_mutation]\n",
        "  selected_functions = np.random.choice(mutate_functions, p=mutate_functions_weights)\n",
        "  mutated_solution = selected_functions(solution, mutation_rate)\n",
        "\n",
        "  return mutated_solution\n",
        "\n",
        "def mono_crossover(*args: np.array) -> np.array:\n",
        "  return args[0]\n",
        "\n",
        "def pairwise_crossover(*args: np.array) -> np.array:\n",
        "  min_length = len(args[0])\n",
        "  crossover_point = np.random.randint(1, min_length)\n",
        "  child = np.concatenate((args[0][:crossover_point], args[1][crossover_point:]))\n",
        "\n",
        "  return child\n",
        "\n",
        "def ternary_crossover(*args: np.array) -> np.array:\n",
        "  child = []\n",
        "\n",
        "  for i in range(len(args[0])):\n",
        "    if np.random.random() < 0.5:\n",
        "      child.append(args[0][i])\n",
        "    else:\n",
        "      if np.random.random() < 0.5:\n",
        "        child.append(args[1][i])\n",
        "      else:\n",
        "        child.append(args[2][i])\n",
        "\n",
        "  return np.array(child)"
      ]
    },
    {
      "cell_type": "code",
      "execution_count": null,
      "metadata": {
        "colab": {
          "base_uri": "https://localhost:8080/",
          "height": 345
        },
        "id": "jZ66860aFLqC",
        "outputId": "293d35fd-c49c-4617-f539-5210becc581e"
      },
      "outputs": [
        {
          "ename": "KeyboardInterrupt",
          "evalue": "ignored",
          "output_type": "error",
          "traceback": [
            "\u001b[0;31m---------------------------------------------------------------------------\u001b[0m",
            "\u001b[0;31mKeyboardInterrupt\u001b[0m                         Traceback (most recent call last)",
            "\u001b[0;32m<ipython-input-249-4c4ba072b481>\u001b[0m in \u001b[0;36m<cell line: 5>\u001b[0;34m()\u001b[0m\n\u001b[1;32m      3\u001b[0m \u001b[0mfitness_values\u001b[0m \u001b[0;34m=\u001b[0m \u001b[0mcalculate_fitness\u001b[0m\u001b[0;34m(\u001b[0m\u001b[0mdf\u001b[0m\u001b[0;34m,\u001b[0m \u001b[0mpopulation\u001b[0m\u001b[0;34m)\u001b[0m\u001b[0;34m\u001b[0m\u001b[0;34m\u001b[0m\u001b[0m\n\u001b[1;32m      4\u001b[0m \u001b[0mselected\u001b[0m \u001b[0;34m=\u001b[0m \u001b[0mroulette_selection\u001b[0m\u001b[0;34m(\u001b[0m\u001b[0mpopulation\u001b[0m\u001b[0;34m,\u001b[0m \u001b[0mfitness_values\u001b[0m\u001b[0;34m,\u001b[0m \u001b[0;36m20\u001b[0m\u001b[0;34m)\u001b[0m\u001b[0;34m\u001b[0m\u001b[0;34m\u001b[0m\u001b[0m\n\u001b[0;32m----> 5\u001b[0;31m \u001b[0mperform_crossover\u001b[0m\u001b[0;34m(\u001b[0m\u001b[0mselected\u001b[0m\u001b[0;34m)\u001b[0m\u001b[0;34m\u001b[0m\u001b[0;34m\u001b[0m\u001b[0m\n\u001b[0m",
            "\u001b[0;32m<ipython-input-248-4a9fb4d4a511>\u001b[0m in \u001b[0;36mperform_crossover\u001b[0;34m(population, num_offspring, crossover_fn, k_factor, mutation_rate)\u001b[0m\n\u001b[1;32m     17\u001b[0m       \u001b[0mparent3\u001b[0m \u001b[0;34m=\u001b[0m \u001b[0mpopulation\u001b[0m\u001b[0;34m[\u001b[0m\u001b[0mparent_indices\u001b[0m\u001b[0;34m[\u001b[0m\u001b[0;36m2\u001b[0m\u001b[0;34m]\u001b[0m\u001b[0;34m]\u001b[0m\u001b[0;34m\u001b[0m\u001b[0;34m\u001b[0m\u001b[0m\n\u001b[1;32m     18\u001b[0m       \u001b[0mchild\u001b[0m \u001b[0;34m=\u001b[0m \u001b[0mcrossover_fn\u001b[0m\u001b[0;34m(\u001b[0m\u001b[0mparent1\u001b[0m\u001b[0;34m,\u001b[0m \u001b[0mparent2\u001b[0m\u001b[0;34m,\u001b[0m \u001b[0mparent3\u001b[0m\u001b[0;34m)\u001b[0m\u001b[0;34m\u001b[0m\u001b[0;34m\u001b[0m\u001b[0m\n\u001b[0;32m---> 19\u001b[0;31m       \u001b[0mmutated_child\u001b[0m \u001b[0;34m=\u001b[0m \u001b[0mmutate\u001b[0m\u001b[0;34m(\u001b[0m\u001b[0mchild\u001b[0m\u001b[0;34m,\u001b[0m \u001b[0mmutation_rate\u001b[0m\u001b[0;34m)\u001b[0m\u001b[0;34m\u001b[0m\u001b[0;34m\u001b[0m\u001b[0m\n\u001b[0m\u001b[1;32m     20\u001b[0m       \u001b[0mis_solution_feasible\u001b[0m \u001b[0;34m=\u001b[0m \u001b[0mcheck_if_solution_is_feasible\u001b[0m\u001b[0;34m(\u001b[0m\u001b[0mdf\u001b[0m\u001b[0;34m,\u001b[0m \u001b[0mmutated_child\u001b[0m\u001b[0;34m,\u001b[0m \u001b[0mk_factor\u001b[0m\u001b[0;34m)\u001b[0m\u001b[0;34m\u001b[0m\u001b[0;34m\u001b[0m\u001b[0m\n\u001b[1;32m     21\u001b[0m     \u001b[0moffspring\u001b[0m\u001b[0;34m[\u001b[0m\u001b[0mi\u001b[0m\u001b[0;34m]\u001b[0m \u001b[0;34m=\u001b[0m \u001b[0mmutated_child\u001b[0m\u001b[0;34m\u001b[0m\u001b[0;34m\u001b[0m\u001b[0m\n",
            "\u001b[0;32m<ipython-input-241-591ac394fcc9>\u001b[0m in \u001b[0;36mmutate\u001b[0;34m(solution, mutation_rate)\u001b[0m\n\u001b[1;32m     52\u001b[0m   \u001b[0mmutate_functions\u001b[0m \u001b[0;34m=\u001b[0m \u001b[0;34m[\u001b[0m\u001b[0mswap_mutation\u001b[0m\u001b[0;34m,\u001b[0m \u001b[0mreverse_swap_mutation\u001b[0m\u001b[0;34m,\u001b[0m \u001b[0mslide_mutation\u001b[0m\u001b[0;34m,\u001b[0m \u001b[0madd_new_city_mutation\u001b[0m\u001b[0;34m]\u001b[0m\u001b[0;34m\u001b[0m\u001b[0;34m\u001b[0m\u001b[0m\n\u001b[1;32m     53\u001b[0m   \u001b[0mselected_functions\u001b[0m \u001b[0;34m=\u001b[0m \u001b[0mnp\u001b[0m\u001b[0;34m.\u001b[0m\u001b[0mrandom\u001b[0m\u001b[0;34m.\u001b[0m\u001b[0mchoice\u001b[0m\u001b[0;34m(\u001b[0m\u001b[0mmutate_functions\u001b[0m\u001b[0;34m,\u001b[0m \u001b[0mp\u001b[0m\u001b[0;34m=\u001b[0m\u001b[0mmutate_functions_weights\u001b[0m\u001b[0;34m)\u001b[0m\u001b[0;34m\u001b[0m\u001b[0;34m\u001b[0m\u001b[0m\n\u001b[0;32m---> 54\u001b[0;31m   \u001b[0mmutated_solution\u001b[0m \u001b[0;34m=\u001b[0m \u001b[0mselected_functions\u001b[0m\u001b[0;34m(\u001b[0m\u001b[0msolution\u001b[0m\u001b[0;34m,\u001b[0m \u001b[0mmutation_rate\u001b[0m\u001b[0;34m)\u001b[0m\u001b[0;34m\u001b[0m\u001b[0;34m\u001b[0m\u001b[0m\n\u001b[0m\u001b[1;32m     55\u001b[0m \u001b[0;34m\u001b[0m\u001b[0m\n\u001b[1;32m     56\u001b[0m   \u001b[0;32mreturn\u001b[0m \u001b[0mmutated_solution\u001b[0m\u001b[0;34m\u001b[0m\u001b[0;34m\u001b[0m\u001b[0m\n",
            "\u001b[0;32m<ipython-input-241-591ac394fcc9>\u001b[0m in \u001b[0;36madd_new_city_mutation\u001b[0;34m(solution, mutation_rate)\u001b[0m\n\u001b[1;32m     45\u001b[0m \u001b[0;34m\u001b[0m\u001b[0m\n\u001b[1;32m     46\u001b[0m       \u001b[0;32mif\u001b[0m \u001b[0mclosest_intermediate_city\u001b[0m\u001b[0;34m.\u001b[0m\u001b[0mshape\u001b[0m\u001b[0;34m[\u001b[0m\u001b[0;36m0\u001b[0m\u001b[0;34m]\u001b[0m \u001b[0;34m!=\u001b[0m \u001b[0;36m0\u001b[0m\u001b[0;34m:\u001b[0m\u001b[0;34m\u001b[0m\u001b[0;34m\u001b[0m\u001b[0m\n\u001b[0;32m---> 47\u001b[0;31m         \u001b[0msolution\u001b[0m\u001b[0;34m[\u001b[0m\u001b[0mi\u001b[0m\u001b[0;34m]\u001b[0m \u001b[0;34m=\u001b[0m \u001b[0mclosest_intermediate_city\u001b[0m\u001b[0;34m.\u001b[0m\u001b[0miloc\u001b[0m\u001b[0;34m[\u001b[0m\u001b[0;36m0\u001b[0m\u001b[0;34m]\u001b[0m\u001b[0;34m.\u001b[0m\u001b[0mname\u001b[0m\u001b[0;34m\u001b[0m\u001b[0;34m\u001b[0m\u001b[0m\n\u001b[0m\u001b[1;32m     48\u001b[0m \u001b[0;34m\u001b[0m\u001b[0m\n\u001b[1;32m     49\u001b[0m   \u001b[0;32mreturn\u001b[0m \u001b[0msolution\u001b[0m\u001b[0;34m\u001b[0m\u001b[0;34m\u001b[0m\u001b[0m\n",
            "\u001b[0;32m/usr/local/lib/python3.10/dist-packages/pandas/core/indexing.py\u001b[0m in \u001b[0;36m__getitem__\u001b[0;34m(self, key)\u001b[0m\n\u001b[1;32m   1101\u001b[0m \u001b[0;34m\u001b[0m\u001b[0m\n\u001b[1;32m   1102\u001b[0m             \u001b[0mmaybe_callable\u001b[0m \u001b[0;34m=\u001b[0m \u001b[0mcom\u001b[0m\u001b[0;34m.\u001b[0m\u001b[0mapply_if_callable\u001b[0m\u001b[0;34m(\u001b[0m\u001b[0mkey\u001b[0m\u001b[0;34m,\u001b[0m \u001b[0mself\u001b[0m\u001b[0;34m.\u001b[0m\u001b[0mobj\u001b[0m\u001b[0;34m)\u001b[0m\u001b[0;34m\u001b[0m\u001b[0;34m\u001b[0m\u001b[0m\n\u001b[0;32m-> 1103\u001b[0;31m             \u001b[0;32mreturn\u001b[0m \u001b[0mself\u001b[0m\u001b[0;34m.\u001b[0m\u001b[0m_getitem_axis\u001b[0m\u001b[0;34m(\u001b[0m\u001b[0mmaybe_callable\u001b[0m\u001b[0;34m,\u001b[0m \u001b[0maxis\u001b[0m\u001b[0;34m=\u001b[0m\u001b[0maxis\u001b[0m\u001b[0;34m)\u001b[0m\u001b[0;34m\u001b[0m\u001b[0;34m\u001b[0m\u001b[0m\n\u001b[0m\u001b[1;32m   1104\u001b[0m \u001b[0;34m\u001b[0m\u001b[0m\n\u001b[1;32m   1105\u001b[0m     \u001b[0;32mdef\u001b[0m \u001b[0m_is_scalar_access\u001b[0m\u001b[0;34m(\u001b[0m\u001b[0mself\u001b[0m\u001b[0;34m,\u001b[0m \u001b[0mkey\u001b[0m\u001b[0;34m:\u001b[0m \u001b[0mtuple\u001b[0m\u001b[0;34m)\u001b[0m\u001b[0;34m:\u001b[0m\u001b[0;34m\u001b[0m\u001b[0;34m\u001b[0m\u001b[0m\n",
            "\u001b[0;32m/usr/local/lib/python3.10/dist-packages/pandas/core/indexing.py\u001b[0m in \u001b[0;36m_getitem_axis\u001b[0;34m(self, key, axis)\u001b[0m\n\u001b[1;32m   1656\u001b[0m             \u001b[0mself\u001b[0m\u001b[0;34m.\u001b[0m\u001b[0m_validate_integer\u001b[0m\u001b[0;34m(\u001b[0m\u001b[0mkey\u001b[0m\u001b[0;34m,\u001b[0m \u001b[0maxis\u001b[0m\u001b[0;34m)\u001b[0m\u001b[0;34m\u001b[0m\u001b[0;34m\u001b[0m\u001b[0m\n\u001b[1;32m   1657\u001b[0m \u001b[0;34m\u001b[0m\u001b[0m\n\u001b[0;32m-> 1658\u001b[0;31m             \u001b[0;32mreturn\u001b[0m \u001b[0mself\u001b[0m\u001b[0;34m.\u001b[0m\u001b[0mobj\u001b[0m\u001b[0;34m.\u001b[0m\u001b[0m_ixs\u001b[0m\u001b[0;34m(\u001b[0m\u001b[0mkey\u001b[0m\u001b[0;34m,\u001b[0m \u001b[0maxis\u001b[0m\u001b[0;34m=\u001b[0m\u001b[0maxis\u001b[0m\u001b[0;34m)\u001b[0m\u001b[0;34m\u001b[0m\u001b[0;34m\u001b[0m\u001b[0m\n\u001b[0m\u001b[1;32m   1659\u001b[0m \u001b[0;34m\u001b[0m\u001b[0m\n\u001b[1;32m   1660\u001b[0m     \u001b[0;32mdef\u001b[0m \u001b[0m_get_slice_axis\u001b[0m\u001b[0;34m(\u001b[0m\u001b[0mself\u001b[0m\u001b[0;34m,\u001b[0m \u001b[0mslice_obj\u001b[0m\u001b[0;34m:\u001b[0m \u001b[0mslice\u001b[0m\u001b[0;34m,\u001b[0m \u001b[0maxis\u001b[0m\u001b[0;34m:\u001b[0m \u001b[0mAxisInt\u001b[0m\u001b[0;34m)\u001b[0m\u001b[0;34m:\u001b[0m\u001b[0;34m\u001b[0m\u001b[0;34m\u001b[0m\u001b[0m\n",
            "\u001b[0;32m/usr/local/lib/python3.10/dist-packages/pandas/core/frame.py\u001b[0m in \u001b[0;36m_ixs\u001b[0;34m(self, i, axis)\u001b[0m\n\u001b[1;32m   3654\u001b[0m             \u001b[0;31m# if we are a copy, mark as such\u001b[0m\u001b[0;34m\u001b[0m\u001b[0;34m\u001b[0m\u001b[0m\n\u001b[1;32m   3655\u001b[0m             \u001b[0mcopy\u001b[0m \u001b[0;34m=\u001b[0m \u001b[0misinstance\u001b[0m\u001b[0;34m(\u001b[0m\u001b[0mnew_mgr\u001b[0m\u001b[0;34m.\u001b[0m\u001b[0marray\u001b[0m\u001b[0;34m,\u001b[0m \u001b[0mnp\u001b[0m\u001b[0;34m.\u001b[0m\u001b[0mndarray\u001b[0m\u001b[0;34m)\u001b[0m \u001b[0;32mand\u001b[0m \u001b[0mnew_mgr\u001b[0m\u001b[0;34m.\u001b[0m\u001b[0marray\u001b[0m\u001b[0;34m.\u001b[0m\u001b[0mbase\u001b[0m \u001b[0;32mis\u001b[0m \u001b[0;32mNone\u001b[0m\u001b[0;34m\u001b[0m\u001b[0;34m\u001b[0m\u001b[0m\n\u001b[0;32m-> 3656\u001b[0;31m             result = self._constructor_sliced(new_mgr, name=self.index[i]).__finalize__(\n\u001b[0m\u001b[1;32m   3657\u001b[0m                 \u001b[0mself\u001b[0m\u001b[0;34m\u001b[0m\u001b[0;34m\u001b[0m\u001b[0m\n\u001b[1;32m   3658\u001b[0m             )\n",
            "\u001b[0;32m/usr/local/lib/python3.10/dist-packages/pandas/core/series.py\u001b[0m in \u001b[0;36m__init__\u001b[0;34m(self, data, index, dtype, name, copy, fastpath)\u001b[0m\n\u001b[1;32m    389\u001b[0m                 \u001b[0mobject\u001b[0m\u001b[0;34m.\u001b[0m\u001b[0m__setattr__\u001b[0m\u001b[0;34m(\u001b[0m\u001b[0mself\u001b[0m\u001b[0;34m,\u001b[0m \u001b[0;34m\"_name\"\u001b[0m\u001b[0;34m,\u001b[0m \u001b[0mname\u001b[0m\u001b[0;34m)\u001b[0m\u001b[0;34m\u001b[0m\u001b[0;34m\u001b[0m\u001b[0m\n\u001b[1;32m    390\u001b[0m             \u001b[0;32melse\u001b[0m\u001b[0;34m:\u001b[0m\u001b[0;34m\u001b[0m\u001b[0;34m\u001b[0m\u001b[0m\n\u001b[0;32m--> 391\u001b[0;31m                 \u001b[0mself\u001b[0m\u001b[0;34m.\u001b[0m\u001b[0mname\u001b[0m \u001b[0;34m=\u001b[0m \u001b[0mname\u001b[0m\u001b[0;34m\u001b[0m\u001b[0;34m\u001b[0m\u001b[0m\n\u001b[0m\u001b[1;32m    392\u001b[0m             \u001b[0;32mreturn\u001b[0m\u001b[0;34m\u001b[0m\u001b[0;34m\u001b[0m\u001b[0m\n\u001b[1;32m    393\u001b[0m \u001b[0;34m\u001b[0m\u001b[0m\n",
            "\u001b[0;32m/usr/local/lib/python3.10/dist-packages/pandas/core/generic.py\u001b[0m in \u001b[0;36m__setattr__\u001b[0;34m(self, name, value)\u001b[0m\n\u001b[1;32m   5999\u001b[0m \u001b[0;34m\u001b[0m\u001b[0m\n\u001b[1;32m   6000\u001b[0m         \u001b[0;32mtry\u001b[0m\u001b[0;34m:\u001b[0m\u001b[0;34m\u001b[0m\u001b[0;34m\u001b[0m\u001b[0m\n\u001b[0;32m-> 6001\u001b[0;31m             \u001b[0mobject\u001b[0m\u001b[0;34m.\u001b[0m\u001b[0m__getattribute__\u001b[0m\u001b[0;34m(\u001b[0m\u001b[0mself\u001b[0m\u001b[0;34m,\u001b[0m \u001b[0mname\u001b[0m\u001b[0;34m)\u001b[0m\u001b[0;34m\u001b[0m\u001b[0;34m\u001b[0m\u001b[0m\n\u001b[0m\u001b[1;32m   6002\u001b[0m             \u001b[0;32mreturn\u001b[0m \u001b[0mobject\u001b[0m\u001b[0;34m.\u001b[0m\u001b[0m__setattr__\u001b[0m\u001b[0;34m(\u001b[0m\u001b[0mself\u001b[0m\u001b[0;34m,\u001b[0m \u001b[0mname\u001b[0m\u001b[0;34m,\u001b[0m \u001b[0mvalue\u001b[0m\u001b[0;34m)\u001b[0m\u001b[0;34m\u001b[0m\u001b[0;34m\u001b[0m\u001b[0m\n\u001b[1;32m   6003\u001b[0m         \u001b[0;32mexcept\u001b[0m \u001b[0mAttributeError\u001b[0m\u001b[0;34m:\u001b[0m\u001b[0;34m\u001b[0m\u001b[0;34m\u001b[0m\u001b[0m\n",
            "\u001b[0;32m/usr/local/lib/python3.10/dist-packages/pandas/core/series.py\u001b[0m in \u001b[0;36mname\u001b[0;34m(self)\u001b[0m\n\u001b[1;32m    667\u001b[0m         \u001b[0;34m'Even Numbers'\u001b[0m\u001b[0;34m\u001b[0m\u001b[0;34m\u001b[0m\u001b[0m\n\u001b[1;32m    668\u001b[0m         \"\"\"\n\u001b[0;32m--> 669\u001b[0;31m         \u001b[0;32mreturn\u001b[0m \u001b[0mself\u001b[0m\u001b[0;34m.\u001b[0m\u001b[0m_name\u001b[0m\u001b[0;34m\u001b[0m\u001b[0;34m\u001b[0m\u001b[0m\n\u001b[0m\u001b[1;32m    670\u001b[0m \u001b[0;34m\u001b[0m\u001b[0m\n\u001b[1;32m    671\u001b[0m     \u001b[0;34m@\u001b[0m\u001b[0mname\u001b[0m\u001b[0;34m.\u001b[0m\u001b[0msetter\u001b[0m\u001b[0;34m\u001b[0m\u001b[0;34m\u001b[0m\u001b[0m\n",
            "\u001b[0;32m/usr/local/lib/python3.10/dist-packages/pandas/core/generic.py\u001b[0m in \u001b[0;36m__getattr__\u001b[0;34m(self, name)\u001b[0m\n\u001b[1;32m   5973\u001b[0m         \u001b[0;32mreturn\u001b[0m \u001b[0mself\u001b[0m\u001b[0;34m\u001b[0m\u001b[0;34m\u001b[0m\u001b[0m\n\u001b[1;32m   5974\u001b[0m \u001b[0;34m\u001b[0m\u001b[0m\n\u001b[0;32m-> 5975\u001b[0;31m     \u001b[0;32mdef\u001b[0m \u001b[0m__getattr__\u001b[0m\u001b[0;34m(\u001b[0m\u001b[0mself\u001b[0m\u001b[0;34m,\u001b[0m \u001b[0mname\u001b[0m\u001b[0;34m:\u001b[0m \u001b[0mstr\u001b[0m\u001b[0;34m)\u001b[0m\u001b[0;34m:\u001b[0m\u001b[0;34m\u001b[0m\u001b[0;34m\u001b[0m\u001b[0m\n\u001b[0m\u001b[1;32m   5976\u001b[0m         \"\"\"\n\u001b[1;32m   5977\u001b[0m         \u001b[0mAfter\u001b[0m \u001b[0mregular\u001b[0m \u001b[0mattribute\u001b[0m \u001b[0maccess\u001b[0m\u001b[0;34m,\u001b[0m \u001b[0;32mtry\u001b[0m \u001b[0mlooking\u001b[0m \u001b[0mup\u001b[0m \u001b[0mthe\u001b[0m \u001b[0mname\u001b[0m\u001b[0;34m\u001b[0m\u001b[0;34m\u001b[0m\u001b[0m\n",
            "\u001b[0;31mKeyboardInterrupt\u001b[0m: "
          ]
        }
      ],
      "source": [
        "df = get_instance(selected_instances[0])\n",
        "population = generate_initial_population(df, 100, k_factor_2)\n",
        "fitness_values = calculate_fitness(df, population)\n",
        "selected = roulette_selection(population, fitness_values, 20)\n",
        "perform_crossover(selected)"
      ]
    },
    {
      "cell_type": "code",
      "execution_count": null,
      "metadata": {
        "id": "Mygmn5DVcgaJ"
      },
      "outputs": [],
      "source": [
        "def perform_crossover(\n",
        "  population: np.array,\n",
        "  num_offspring: int=80,\n",
        "  crossover_fn=mono_crossover,\n",
        "  k_factor=k_factor_1,\n",
        "  mutation_rate: float=0.05\n",
        ") -> np.array:\n",
        "  selected_array = population.copy()\n",
        "  offspring = []\n",
        "\n",
        "  for i in range(num_offspring):\n",
        "    is_solution_feasible = False\n",
        "    while not is_solution_feasible:\n",
        "      parent_indices = np.random.choice(len(selected_array), size=3, replace=False)\n",
        "      parent1 = population[parent_indices[0]]\n",
        "      parent2 = population[parent_indices[1]]\n",
        "      parent3 = population[parent_indices[2]]\n",
        "      child = crossover_fn(parent1, parent2, parent3)\n",
        "      mutated_child = mutate(child, mutation_rate)\n",
        "      is_solution_feasible = check_if_solution_is_feasible(df, mutated_child, k_factor)\n",
        "    offspring[i] = mutated_child\n",
        "    print(i)\n",
        "\n",
        "  return offspring"
      ]
    },
    {
      "cell_type": "code",
      "execution_count": null,
      "metadata": {
        "id": "aIv4as4TwfSi"
      },
      "outputs": [],
      "source": [
        "def get_best_individual(population, df):\n",
        "  best_fitness = float('inf')\n",
        "  best_individual = None\n",
        "\n",
        "  for individual in population:\n",
        "    fitness = calculate_path_length(df, individual)\n",
        "    if fitness < best_fitness:\n",
        "      best_fitness = fitness\n",
        "      best_individual = individual\n",
        "\n",
        "  return best_fitness, best_individual"
      ]
    },
    {
      "cell_type": "code",
      "execution_count": null,
      "metadata": {
        "id": "f5lCx1NenJzp"
      },
      "outputs": [],
      "source": [
        "def get_diversity(population):\n",
        "  unique_individuals = set(map(tuple, population))\n",
        "  num_unique = len(unique_individuals)\n",
        "  diversity = num_unique/len(population)\n",
        "\n",
        "  return diversity"
      ]
    },
    {
      "cell_type": "code",
      "execution_count": null,
      "metadata": {
        "id": "9ONqK0hsqQJ8"
      },
      "outputs": [],
      "source": [
        "def main(df, k_factor, debug=False):\n",
        "  convergency_history = []\n",
        "  diversity = 1\n",
        "  initial_population = generate_initial_population(df, population_size, k_factor)\n",
        "  population = initial_population\n",
        "  best_fitness, best_individual = get_best_individual(population, df)\n",
        "  diversity = get_diversity(population)\n",
        "\n",
        "  if debug:\n",
        "    print(f'Best fitness for originals: {best_fitness}')\n",
        "    print(f'Best individual for originals: {best_individual}')\n",
        "    print(f'Best fitness for originals: {diversity}')\n",
        "\n",
        "  for generation in tqdm(range(num_generations)):\n",
        "    if diversity < 0.25:\n",
        "      mutation_rate = 0.75\n",
        "    elif diversity < 0.5:\n",
        "      mutation_rate = 0.5\n",
        "    elif diversity < 0.75:\n",
        "      mutation_rate = 0.25\n",
        "    else:\n",
        "      mutation_rate = initial_mutation_rate\n",
        "\n",
        "    fitness_values = calculate_fitness(df, population)\n",
        "    selected = roulette_selection(population, fitness_values, num_select)\n",
        "    offspring = perform_crossover(selected, num_offspring=80, crossover_fn=pairwise_crossover, k_factor=k_factor, mutation_rate=mutation_rate)\n",
        "    population = selected + offspring\n",
        "\n",
        "    best_fitness, best_individual = get_best_individual(population, df)\n",
        "    diversity = get_diversity(population)\n",
        "    convergency_history.append(best_fitness)\n",
        "\n",
        "    if debug:\n",
        "      print(f'Best fitness for gen {generation}: {best_fitness}')\n",
        "      print(f'Best individual for gen {generation}: {best_individual}')\n",
        "      print(f'Diversity for gen {generation}: {diversity}')\n",
        "\n",
        "  return best_fitness, best_individual, convergency_history"
      ]
    },
    {
      "cell_type": "code",
      "execution_count": null,
      "metadata": {
        "id": "ZBo4Dyk4fcJL"
      },
      "outputs": [],
      "source": [
        "# parameters\n",
        "random_seed = 0\n",
        "num_generations = 100\n",
        "initial_mutation_rate = 0.05\n",
        "mutate_functions_weights = [0.25, 0.25, 0.25, 0.25]\n",
        "population_size = 100\n",
        "num_select = 10\n",
        "k_factor = k_factor_1\n",
        "\n",
        "np.random.seed(random_seed)"
      ]
    },
    {
      "cell_type": "code",
      "execution_count": null,
      "metadata": {
        "id": "mYTRTTfFfxtC"
      },
      "outputs": [],
      "source": [
        "df = get_instance('tsp/burma14.tsp')\n",
        "main(df, k_factor)"
      ]
    }
  ],
  "metadata": {
    "colab": {
      "provenance": []
    },
    "kernelspec": {
      "display_name": "Python 3",
      "name": "python3"
    },
    "language_info": {
      "codemirror_mode": {
        "name": "ipython",
        "version": 3
      },
      "file_extension": ".py",
      "mimetype": "text/x-python",
      "name": "python",
      "nbconvert_exporter": "python",
      "pygments_lexer": "ipython3",
      "version": "3.10.12"
    }
  },
  "nbformat": 4,
  "nbformat_minor": 0
}
