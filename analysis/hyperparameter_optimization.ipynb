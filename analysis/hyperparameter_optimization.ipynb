{
 "cells": [
  {
   "cell_type": "code",
   "execution_count": 32,
   "id": "8da708c7",
   "metadata": {},
   "outputs": [],
   "source": [
    "from skopt import gp_minimize\n",
    "from skopt.space import Integer, Real, Categorical\n",
    "import pandas as pd\n",
    "\n",
    "from k_tsp_solver import (\n",
    "    Experiment,\n",
    "    ModelName,\n",
    "    KFactor,\n",
    "    logger\n",
    ")"
   ]
  },
  {
   "cell_type": "code",
   "execution_count": 29,
   "id": "a01b5786",
   "metadata": {},
   "outputs": [],
   "source": [
    "TSP_SELECTED_INSTANCES = [\n",
    "    \"gr24.tsp\", \"berlin52.tsp\", \"pr76.tsp\",\n",
    "    \"ch130.tsp\", \"pr152.tsp\", \"kroA200.tsp\",\n",
    "    \"att532.tsp\", \"rat783.tsp\"\n",
    "]\n",
    "\n",
    "ATSP_SELECTED_INSTANCES = [\n",
    "    \"br17.atsp\", \"ftv170.atsp\", \"rbg403.atsp\"\n",
    "]\n",
    "\n",
    "SELECTED_INSTANCES = TSP_SELECTED_INSTANCES + ATSP_SELECTED_INSTANCES"
   ]
  },
  {
   "cell_type": "code",
   "execution_count": 24,
   "id": "9dbc13f9",
   "metadata": {},
   "outputs": [],
   "source": [
    "fixed_k = KFactor.LARGE\n",
    "model_name = ModelName.GENETIC_ALGORITHM_NEAREST_NEIGHBORS_ENSEMBLE.value\n",
    "\n",
    "search_space = [\n",
    "    Integer(50, 250, name=\"population_size\"),\n",
    "    Integer(50, 250, name=\"generations\"),\n",
    "    Real(0.01, 0.1, name=\"mutation_rate\"),\n",
    "    Integer(5, 40, name=\"selection_size\"),\n",
    "    Categorical([True, False], name=\"has_variable_mutate_rate\")\n",
    "]"
   ]
  },
  {
   "cell_type": "code",
   "execution_count": 35,
   "id": "1a3b6d2c",
   "metadata": {},
   "outputs": [],
   "source": [
    "def objective(params):\n",
    "    population_size, generations, mutation_rate, selection_size, has_var = params\n",
    "    params_dict = {\n",
    "        \"population_size\": population_size,\n",
    "        \"generations\": generations,\n",
    "        \"mutation_rate\": mutation_rate,\n",
    "        \"selection_size\": selection_size,\n",
    "        \"has_variable_mutate_rate\": has_var,\n",
    "        \"is_debugging\": False\n",
    "    }\n",
    "\n",
    "    results = []\n",
    "    for instance in [\"gr24.tsp\"]:\n",
    "        for has_closed in [False, True]:\n",
    "            logger.info(f\"Running {model_name} on {instance} with params: {params_dict}\")\n",
    "            exp = Experiment(\n",
    "                instance_name=instance,\n",
    "                model_name=model_name,\n",
    "                model_parameters=params_dict,\n",
    "                k_factor=fixed_k,\n",
    "                has_closed_cycle=has_closed,\n",
    "                repetitions=15\n",
    "            )\n",
    "            exp.run()\n",
    "            best_length = exp._get_experiment_as_dataframe()[\"path_length\"].min()\n",
    "            results.append(best_length)\n",
    "\n",
    "    return float(pd.Series(results).mean())"
   ]
  },
  {
   "cell_type": "code",
   "execution_count": null,
   "id": "a5e1b4e8",
   "metadata": {},
   "outputs": [],
   "source": [
    "search_result = gp_minimize(\n",
    "    func=objective,\n",
    "    dimensions=search_space,\n",
    "    n_calls=10,\n",
    "    random_state=0,\n",
    "    verbose=True\n",
    ")"
   ]
  },
  {
   "cell_type": "code",
   "execution_count": 38,
   "id": "fd1acf20",
   "metadata": {},
   "outputs": [
    {
     "data": {
      "text/plain": [
       "{'population_size': np.int64(80),\n",
       " 'generations': np.int64(94),\n",
       " 'mutation_rate': 0.04478400830132759,\n",
       " 'selection_size': np.int64(37),\n",
       " 'has_variable_mutate_rate': True}"
      ]
     },
     "execution_count": 38,
     "metadata": {},
     "output_type": "execute_result"
    }
   ],
   "source": [
    "best_params = dict(zip(\n",
    "    [\"population_size\", \"generations\", \"mutation_rate\", \"selection_size\", \"has_variable_mutate_rate\"],\n",
    "    search_result.x\n",
    "))\n",
    "best_params"
   ]
  },
  {
   "cell_type": "code",
   "execution_count": 40,
   "id": "cce58467",
   "metadata": {},
   "outputs": [],
   "source": [
    "convergence = pd.DataFrame({\n",
    "    \"iteration\": list(range(1, len(search_result.func_vals) + 1)),\n",
    "    \"mean_best_length\": search_result.func_vals\n",
    "})"
   ]
  },
  {
   "cell_type": "code",
   "execution_count": 41,
   "id": "d6315e97",
   "metadata": {},
   "outputs": [
    {
     "data": {
      "text/html": [
       "<div>\n",
       "<style scoped>\n",
       "    .dataframe tbody tr th:only-of-type {\n",
       "        vertical-align: middle;\n",
       "    }\n",
       "\n",
       "    .dataframe tbody tr th {\n",
       "        vertical-align: top;\n",
       "    }\n",
       "\n",
       "    .dataframe thead th {\n",
       "        text-align: right;\n",
       "    }\n",
       "</style>\n",
       "<table border=\"1\" class=\"dataframe\">\n",
       "  <thead>\n",
       "    <tr style=\"text-align: right;\">\n",
       "      <th></th>\n",
       "      <th>iteration</th>\n",
       "      <th>mean_best_length</th>\n",
       "    </tr>\n",
       "  </thead>\n",
       "  <tbody>\n",
       "    <tr>\n",
       "      <th>0</th>\n",
       "      <td>1</td>\n",
       "      <td>795.0</td>\n",
       "    </tr>\n",
       "    <tr>\n",
       "      <th>1</th>\n",
       "      <td>2</td>\n",
       "      <td>793.5</td>\n",
       "    </tr>\n",
       "    <tr>\n",
       "      <th>2</th>\n",
       "      <td>3</td>\n",
       "      <td>789.5</td>\n",
       "    </tr>\n",
       "    <tr>\n",
       "      <th>3</th>\n",
       "      <td>4</td>\n",
       "      <td>781.5</td>\n",
       "    </tr>\n",
       "    <tr>\n",
       "      <th>4</th>\n",
       "      <td>5</td>\n",
       "      <td>795.5</td>\n",
       "    </tr>\n",
       "    <tr>\n",
       "      <th>5</th>\n",
       "      <td>6</td>\n",
       "      <td>795.5</td>\n",
       "    </tr>\n",
       "    <tr>\n",
       "      <th>6</th>\n",
       "      <td>7</td>\n",
       "      <td>795.5</td>\n",
       "    </tr>\n",
       "    <tr>\n",
       "      <th>7</th>\n",
       "      <td>8</td>\n",
       "      <td>776.5</td>\n",
       "    </tr>\n",
       "    <tr>\n",
       "      <th>8</th>\n",
       "      <td>9</td>\n",
       "      <td>791.0</td>\n",
       "    </tr>\n",
       "    <tr>\n",
       "      <th>9</th>\n",
       "      <td>10</td>\n",
       "      <td>776.5</td>\n",
       "    </tr>\n",
       "  </tbody>\n",
       "</table>\n",
       "</div>"
      ],
      "text/plain": [
       "   iteration  mean_best_length\n",
       "0          1             795.0\n",
       "1          2             793.5\n",
       "2          3             789.5\n",
       "3          4             781.5\n",
       "4          5             795.5\n",
       "5          6             795.5\n",
       "6          7             795.5\n",
       "7          8             776.5\n",
       "8          9             791.0\n",
       "9         10             776.5"
      ]
     },
     "execution_count": 41,
     "metadata": {},
     "output_type": "execute_result"
    }
   ],
   "source": [
    "convergence"
   ]
  },
  {
   "cell_type": "code",
   "execution_count": null,
   "id": "88f5ae56",
   "metadata": {},
   "outputs": [],
   "source": []
  }
 ],
 "metadata": {
  "kernelspec": {
   "display_name": "venv",
   "language": "python",
   "name": "python3"
  },
  "language_info": {
   "codemirror_mode": {
    "name": "ipython",
    "version": 3
   },
   "file_extension": ".py",
   "mimetype": "text/x-python",
   "name": "python",
   "nbconvert_exporter": "python",
   "pygments_lexer": "ipython3",
   "version": "3.10.12"
  }
 },
 "nbformat": 4,
 "nbformat_minor": 5
}
